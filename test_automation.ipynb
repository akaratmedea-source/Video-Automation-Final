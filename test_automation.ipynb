# Install PyDrive2 for Google Drive Service Account access (will be run by pip in the workflow)
import os
import datetime
# استيراد المكتبات الجديدة المخصصة للمصادقة على حساب الخدمة
from pydrive2.auth import GoogleAuth
from pydrive2.drive import GoogleDrive

# 1. المصادقة باستخدام ملف مفتاح الخدمة (key.json)
# هذا الملف يتم إنشاؤه تلقائياً بواسطة GitHub Actions
gauth = GoogleAuth()
gauth.settings['client_config_file'] = 'key.json'
gauth.settings['oauth_scope'] = ['https://www.googleapis.com/auth/drive'] # تحديد الصلاحية
gauth.settings['save_credentials'] = False
gauth.settings['get_refresh_token'] = True 
gauth.settings['access_type'] = 'offline'

gauth.LoadClientConfigFile('key.json')
gauth.ServiceAuth()
drive = GoogleDrive(gauth)

# 2. تحديد المجلد المستهدف وإيجاد معرّفه (ID)
FOLDER_NAME = 'Automated_Videos_Test'

# البحث عن معرّف المجلد (ID) بناءً على اسمه
folder_list = drive.ListFile({
    'q': f"title='{FOLDER_NAME}' and mimeType='application/vnd.google-apps.folder' and trashed=false"
}).GetList()

if not folder_list:
    raise FileNotFoundError(f"Error: Target folder '{FOLDER_NAME}' not found. Ensure it is shared with the service account email.")

TARGET_FOLDER_ID = folder_list[0]['id']
print(f"Target Folder ID: {TARGET_FOLDER_ID}")


# 3. إنشاء الملف التجريبي محلياً
timestamp = datetime.datetime.now().strftime("%Y%m%d_%H%M%S")
local_filename = f"story_test_{timestamp}.txt"
    
with open(local_filename, 'w') as f:
    f.write(f"This test file confirms successful PyDrive authentication and upload.\n")
    f.write(f"Creation Timestamp: {timestamp}\n")

# 4. رفع الملف إلى Google Drive باستخدام المعرّف
file_metadata = {
    'title': local_filename,
    'parents': [{'id': TARGET_FOLDER_ID}]
}

uploaded_file = drive.CreateFile(file_metadata)
uploaded_file.SetContentFile(local_filename)
uploaded_file.Upload()

print(f"Successfully uploaded {local_filename} to Drive folder '{FOLDER_NAME}'.")

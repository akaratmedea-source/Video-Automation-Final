from google.colab import drive
import os
import datetime

drive.mount('/content/drive')
DRIVE_DIR = '/content/drive/MyDrive/Automated_Videos_Test' 

timestamp = datetime.datetime.now().strftime("%Y%m%d_%H%M%S")
output_filename = f"story_test_{timestamp}.txt"

with open(output_filename, 'w') as f:
    f.write(f"TEST SUCCESS: File created on {timestamp} by GitHub Actions.\n")

!mv {output_filename} {DRIVE_DIR}/

output_path = os.path.join(DRIVE_DIR, output_filename)
print(f"Successfully moved the test file to: {output_path}")
